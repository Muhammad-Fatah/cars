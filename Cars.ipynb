{
  "nbformat": 4,
  "nbformat_minor": 0,
  "metadata": {
    "colab": {
      "provenance": [],
      "toc_visible": true,
      "authorship_tag": "ABX9TyNaL0Yd0s9+68x8f/X+5+0N",
      "include_colab_link": true
    },
    "kernelspec": {
      "name": "python3",
      "display_name": "Python 3"
    },
    "language_info": {
      "name": "python"
    }
  },
  "cells": [
    {
      "cell_type": "markdown",
      "metadata": {
        "id": "view-in-github",
        "colab_type": "text"
      },
      "source": [
        "<a href=\"https://colab.research.google.com/github/Muhammad-Fatah/cars/blob/main/Cars.ipynb\" target=\"_parent\"><img src=\"https://colab.research.google.com/assets/colab-badge.svg\" alt=\"Open In Colab\"/></a>"
      ]
    },
    {
      "cell_type": "code",
      "execution_count": null,
      "metadata": {
        "id": "niPGngEX5Dqj"
      },
      "outputs": [],
      "source": [
        "#Install Java 8 , Apache Spark\n",
        "!apt-get install openjdk-8-jdk-headless -qq > /dev/null\n",
        "!wget -q http://archive.apache.org/dist/spark/spark-3.5.1/spark-3.5.1-bin-hadoop3.tgz\n",
        "!tar xf spark-3.5.1-bin-hadoop3.tgz\n",
        "!pip install -q findspark"
      ]
    },
    {
      "cell_type": "code",
      "source": [
        "#Set Environment Variables\n",
        "import os\n",
        "os.environ[\"JAVA_HOME\"] = \"/usr/lib/jvm/java-8-openjdk-amd64\"\n",
        "os.environ[\"SPARK_HOME\"] = \"/content/spark-3.5.1-bin-hadoop3\""
      ],
      "metadata": {
        "id": "mIP1DvqH5sSx"
      },
      "execution_count": null,
      "outputs": []
    },
    {
      "cell_type": "code",
      "source": [
        "# menampilkan daftar\n",
        "!ls"
      ],
      "metadata": {
        "colab": {
          "base_uri": "https://localhost:8080/"
        },
        "id": "jvHKGgAx6DiW",
        "outputId": "9530d189-2bd7-41e4-df83-7fd9ab3e661f"
      },
      "execution_count": null,
      "outputs": [
        {
          "output_type": "stream",
          "name": "stdout",
          "text": [
            "sample_data  spark-3.5.1-bin-hadoop3  spark-3.5.1-bin-hadoop3.tgz  spark-3.5.1-bin-hadoop3.tgz.1\n"
          ]
        }
      ]
    },
    {
      "cell_type": "code",
      "source": [
        "import findspark\n",
        "findspark.init()\n",
        "from pyspark.sql import SparkSession\n",
        "spark = SparkSession.builder.master(\"local[*]\").getOrCreate()\n",
        "spark.conf.set(\"spark.sql.repl.eagerEval.enabled\", True) # Property used to format output tables better\n",
        "spark"
      ],
      "metadata": {
        "colab": {
          "base_uri": "https://localhost:8080/",
          "height": 219
        },
        "id": "AIoPsafZ6XTs",
        "outputId": "d8db4b1d-1276-4101-c172-b41004c74253"
      },
      "execution_count": null,
      "outputs": [
        {
          "output_type": "execute_result",
          "data": {
            "text/plain": [
              "<pyspark.sql.session.SparkSession at 0x7b515c0176d0>"
            ],
            "text/html": [
              "\n",
              "            <div>\n",
              "                <p><b>SparkSession - in-memory</b></p>\n",
              "                \n",
              "        <div>\n",
              "            <p><b>SparkContext</b></p>\n",
              "\n",
              "            <p><a href=\"http://9eeafaf94acb:4040\">Spark UI</a></p>\n",
              "\n",
              "            <dl>\n",
              "              <dt>Version</dt>\n",
              "                <dd><code>v3.5.1</code></dd>\n",
              "              <dt>Master</dt>\n",
              "                <dd><code>local[*]</code></dd>\n",
              "              <dt>AppName</dt>\n",
              "                <dd><code>pyspark-shell</code></dd>\n",
              "            </dl>\n",
              "        </div>\n",
              "        \n",
              "            </div>\n",
              "        "
            ]
          },
          "metadata": {},
          "execution_count": 5
        }
      ]
    },
    {
      "cell_type": "code",
      "source": [
        "# Download dan proses Cars Data\n",
        "!wget https://jacobceles.github.io/knowledge_repo/colab_and_pyspark/cars.csv"
      ],
      "metadata": {
        "colab": {
          "base_uri": "https://localhost:8080/"
        },
        "id": "POzxNr7m6hY_",
        "outputId": "7659a3f6-676e-47f9-b473-707995f64d1c"
      },
      "execution_count": null,
      "outputs": [
        {
          "output_type": "stream",
          "name": "stdout",
          "text": [
            "--2024-12-18 08:38:26--  https://jacobceles.github.io/knowledge_repo/colab_and_pyspark/cars.csv\n",
            "Resolving jacobceles.github.io (jacobceles.github.io)... 185.199.110.153, 185.199.111.153, 185.199.109.153, ...\n",
            "Connecting to jacobceles.github.io (jacobceles.github.io)|185.199.110.153|:443... connected.\n",
            "HTTP request sent, awaiting response... 301 Moved Permanently\n",
            "Location: https://jacobcelestine.com/knowledge_repo/colab_and_pyspark/cars.csv [following]\n",
            "--2024-12-18 08:38:26--  https://jacobcelestine.com/knowledge_repo/colab_and_pyspark/cars.csv\n",
            "Resolving jacobcelestine.com (jacobcelestine.com)... 185.199.108.153, 185.199.109.153, 185.199.110.153, ...\n",
            "Connecting to jacobcelestine.com (jacobcelestine.com)|185.199.108.153|:443... connected.\n",
            "HTTP request sent, awaiting response... 200 OK\n",
            "Length: 22608 (22K) [text/csv]\n",
            "Saving to: ‘cars.csv’\n",
            "\n",
            "\rcars.csv              0%[                    ]       0  --.-KB/s               \rcars.csv            100%[===================>]  22.08K  --.-KB/s    in 0.002s  \n",
            "\n",
            "2024-12-18 08:38:26 (12.3 MB/s) - ‘cars.csv’ saved [22608/22608]\n",
            "\n"
          ]
        }
      ]
    },
    {
      "cell_type": "code",
      "source": [
        "#cek daftar\n",
        "!ls"
      ],
      "metadata": {
        "colab": {
          "base_uri": "https://localhost:8080/"
        },
        "id": "7Z8xtM4o6zvq",
        "outputId": "44fc2acc-5f97-441c-e6e3-f1b29f4219c6"
      },
      "execution_count": null,
      "outputs": [
        {
          "output_type": "stream",
          "name": "stdout",
          "text": [
            "cars.csv     spark-3.5.1-bin-hadoop3\t  spark-3.5.1-bin-hadoop3.tgz.1\n",
            "sample_data  spark-3.5.1-bin-hadoop3.tgz\n"
          ]
        }
      ]
    },
    {
      "cell_type": "code",
      "source": [
        "# Load data from csv to a dataframe.\n",
        "# header=True means the first row is a header\n",
        "# sep=';' means the column are seperated using ''\n",
        "df = spark.read.csv('cars.csv', header=True, sep=\";\")\n",
        "df.show(5)"
      ],
      "metadata": {
        "colab": {
          "base_uri": "https://localhost:8080/"
        },
        "id": "o2gaxR3k67cd",
        "outputId": "8f2841fe-ff5c-41ac-ec3b-fe7814c74a1d"
      },
      "execution_count": null,
      "outputs": [
        {
          "output_type": "stream",
          "name": "stdout",
          "text": [
            "+--------------------+----+---------+------------+----------+------+------------+-----+------+\n",
            "|                 Car| MPG|Cylinders|Displacement|Horsepower|Weight|Acceleration|Model|Origin|\n",
            "+--------------------+----+---------+------------+----------+------+------------+-----+------+\n",
            "|Chevrolet Chevell...|18.0|        8|       307.0|     130.0| 3504.|        12.0|   70|    US|\n",
            "|   Buick Skylark 320|15.0|        8|       350.0|     165.0| 3693.|        11.5|   70|    US|\n",
            "|  Plymouth Satellite|18.0|        8|       318.0|     150.0| 3436.|        11.0|   70|    US|\n",
            "|       AMC Rebel SST|16.0|        8|       304.0|     150.0| 3433.|        12.0|   70|    US|\n",
            "|         Ford Torino|17.0|        8|       302.0|     140.0| 3449.|        10.5|   70|    US|\n",
            "+--------------------+----+---------+------------+----------+------+------------+-----+------+\n",
            "only showing top 5 rows\n",
            "\n"
          ]
        }
      ]
    },
    {
      "cell_type": "code",
      "source": [
        "#df.show()adalah metode yang paling umum digunakan untuk melihat kerangka data. Ada beberapa parameter yang dapat kita berikan ke metode ini, seperti jumlah baris dan pemotongan. Misalnya, df.show(5, False)atau df.show(5, truncate=False)akan menampilkan seluruh data tanpa pemotongan apa pun.\n",
        "df.show(5, truncate=False)"
      ],
      "metadata": {
        "colab": {
          "base_uri": "https://localhost:8080/"
        },
        "id": "CgMsuM3Z7LL7",
        "outputId": "079807d4-d79f-4dcf-afc0-682e95bece34"
      },
      "execution_count": null,
      "outputs": [
        {
          "output_type": "stream",
          "name": "stdout",
          "text": [
            "+-------------------------+----+---------+------------+----------+------+------------+-----+------+\n",
            "|Car                      |MPG |Cylinders|Displacement|Horsepower|Weight|Acceleration|Model|Origin|\n",
            "+-------------------------+----+---------+------------+----------+------+------------+-----+------+\n",
            "|Chevrolet Chevelle Malibu|18.0|8        |307.0       |130.0     |3504. |12.0        |70   |US    |\n",
            "|Buick Skylark 320        |15.0|8        |350.0       |165.0     |3693. |11.5        |70   |US    |\n",
            "|Plymouth Satellite       |18.0|8        |318.0       |150.0     |3436. |11.0        |70   |US    |\n",
            "|AMC Rebel SST            |16.0|8        |304.0       |150.0     |3433. |12.0        |70   |US    |\n",
            "|Ford Torino              |17.0|8        |302.0       |140.0     |3449. |10.5        |70   |US    |\n",
            "+-------------------------+----+---------+------------+----------+------+------------+-----+------+\n",
            "only showing top 5 rows\n",
            "\n"
          ]
        }
      ]
    },
    {
      "cell_type": "code",
      "source": [
        "#df.limit(5)akan mengembalikan DataFrame baru dengan mengambil n baris pertama. Karena spark bersifat terdistribusi, tidak ada jaminan bahwa spark df.limit()akan memberikan hasil yang sama setiap saat.\n",
        "df.limit(5)"
      ],
      "metadata": {
        "colab": {
          "base_uri": "https://localhost:8080/",
          "height": 156
        },
        "id": "1glG52Q07OnJ",
        "outputId": "681ad267-02b9-492d-f76e-cb36a6b1b06f"
      },
      "execution_count": null,
      "outputs": [
        {
          "output_type": "execute_result",
          "data": {
            "text/plain": [
              "+--------------------+----+---------+------------+----------+------+------------+-----+------+\n",
              "|                 Car| MPG|Cylinders|Displacement|Horsepower|Weight|Acceleration|Model|Origin|\n",
              "+--------------------+----+---------+------------+----------+------+------------+-----+------+\n",
              "|Chevrolet Chevell...|18.0|        8|       307.0|     130.0| 3504.|        12.0|   70|    US|\n",
              "|   Buick Skylark 320|15.0|        8|       350.0|     165.0| 3693.|        11.5|   70|    US|\n",
              "|  Plymouth Satellite|18.0|        8|       318.0|     150.0| 3436.|        11.0|   70|    US|\n",
              "|       AMC Rebel SST|16.0|        8|       304.0|     150.0| 3433.|        12.0|   70|    US|\n",
              "|         Ford Torino|17.0|        8|       302.0|     140.0| 3449.|        10.5|   70|    US|\n",
              "+--------------------+----+---------+------------+----------+------+------------+-----+------+"
            ],
            "text/html": [
              "<table border='1'>\n",
              "<tr><th>Car</th><th>MPG</th><th>Cylinders</th><th>Displacement</th><th>Horsepower</th><th>Weight</th><th>Acceleration</th><th>Model</th><th>Origin</th></tr>\n",
              "<tr><td>Chevrolet Chevell...</td><td>18.0</td><td>8</td><td>307.0</td><td>130.0</td><td>3504.</td><td>12.0</td><td>70</td><td>US</td></tr>\n",
              "<tr><td>Buick Skylark 320</td><td>15.0</td><td>8</td><td>350.0</td><td>165.0</td><td>3693.</td><td>11.5</td><td>70</td><td>US</td></tr>\n",
              "<tr><td>Plymouth Satellite</td><td>18.0</td><td>8</td><td>318.0</td><td>150.0</td><td>3436.</td><td>11.0</td><td>70</td><td>US</td></tr>\n",
              "<tr><td>AMC Rebel SST</td><td>16.0</td><td>8</td><td>304.0</td><td>150.0</td><td>3433.</td><td>12.0</td><td>70</td><td>US</td></tr>\n",
              "<tr><td>Ford Torino</td><td>17.0</td><td>8</td><td>302.0</td><td>140.0</td><td>3449.</td><td>10.5</td><td>70</td><td>US</td></tr>\n",
              "</table>\n"
            ]
          },
          "metadata": {},
          "execution_count": 11
        }
      ]
    },
    {
      "cell_type": "code",
      "source": [
        "#Melihat Kolom Dataframe\n",
        "df.columns"
      ],
      "metadata": {
        "colab": {
          "base_uri": "https://localhost:8080/"
        },
        "id": "YQVMrWW57wY5",
        "outputId": "02893af4-71d3-4250-9d59-affc43244a11"
      },
      "execution_count": null,
      "outputs": [
        {
          "output_type": "execute_result",
          "data": {
            "text/plain": [
              "['Car',\n",
              " 'MPG',\n",
              " 'Cylinders',\n",
              " 'Displacement',\n",
              " 'Horsepower',\n",
              " 'Weight',\n",
              " 'Acceleration',\n",
              " 'Model',\n",
              " 'Origin']"
            ]
          },
          "metadata": {},
          "execution_count": 12
        }
      ]
    },
    {
      "cell_type": "code",
      "source": [
        "#melihat tipe data dengan df.dtypes\n",
        "df.dtypes"
      ],
      "metadata": {
        "colab": {
          "base_uri": "https://localhost:8080/"
        },
        "id": "1An4sMII8KM2",
        "outputId": "e3fb4741-6105-43da-ae37-ff3c934662ae"
      },
      "execution_count": null,
      "outputs": [
        {
          "output_type": "execute_result",
          "data": {
            "text/plain": [
              "[('Car', 'string'),\n",
              " ('MPG', 'string'),\n",
              " ('Cylinders', 'string'),\n",
              " ('Displacement', 'string'),\n",
              " ('Horsepower', 'string'),\n",
              " ('Weight', 'string'),\n",
              " ('Acceleration', 'string'),\n",
              " ('Model', 'string'),\n",
              " ('Origin', 'string')]"
            ]
          },
          "metadata": {},
          "execution_count": 13
        }
      ]
    },
    {
      "cell_type": "code",
      "source": [
        "#melihat tipe data dengan df.printSchema()\n",
        "df.printSchema()"
      ],
      "metadata": {
        "colab": {
          "base_uri": "https://localhost:8080/"
        },
        "id": "kOFpwblU8db8",
        "outputId": "646ef866-30d9-42d2-8284-1b269513edef"
      },
      "execution_count": null,
      "outputs": [
        {
          "output_type": "stream",
          "name": "stdout",
          "text": [
            "root\n",
            " |-- Car: string (nullable = true)\n",
            " |-- MPG: string (nullable = true)\n",
            " |-- Cylinders: string (nullable = true)\n",
            " |-- Displacement: string (nullable = true)\n",
            " |-- Horsepower: string (nullable = true)\n",
            " |-- Weight: string (nullable = true)\n",
            " |-- Acceleration: string (nullable = true)\n",
            " |-- Model: string (nullable = true)\n",
            " |-- Origin: string (nullable = true)\n",
            "\n"
          ]
        }
      ]
    },
    {
      "cell_type": "code",
      "source": [
        "#menggunakan parameter tersebut inferschema=true untuk menyimpulkan skema input secara otomatis saat memuat data\n",
        "df = spark.read.csv('cars.csv', header=True, sep=\";\", inferSchema=True)\n",
        "df.printSchema()"
      ],
      "metadata": {
        "colab": {
          "base_uri": "https://localhost:8080/"
        },
        "id": "6yPB-O058tXp",
        "outputId": "64c6cd9b-67a6-4c1e-8808-3abc4ad80d46"
      },
      "execution_count": null,
      "outputs": [
        {
          "output_type": "stream",
          "name": "stdout",
          "text": [
            "root\n",
            " |-- Car: string (nullable = true)\n",
            " |-- MPG: double (nullable = true)\n",
            " |-- Cylinders: integer (nullable = true)\n",
            " |-- Displacement: double (nullable = true)\n",
            " |-- Horsepower: double (nullable = true)\n",
            " |-- Weight: decimal(4,0) (nullable = true)\n",
            " |-- Acceleration: double (nullable = true)\n",
            " |-- Model: integer (nullable = true)\n",
            " |-- Origin: string (nullable = true)\n",
            "\n"
          ]
        }
      ]
    },
    {
      "cell_type": "code",
      "source": [
        "#Mendefinisikan Skema Secara Eksplisit\n",
        "from pyspark.sql.types import *\n",
        "df.columns"
      ],
      "metadata": {
        "colab": {
          "base_uri": "https://localhost:8080/"
        },
        "id": "cgwSl88a89BZ",
        "outputId": "2a553a1c-161f-4fd1-decc-0f16b2e1cb00"
      },
      "execution_count": null,
      "outputs": [
        {
          "output_type": "execute_result",
          "data": {
            "text/plain": [
              "['Car',\n",
              " 'MPG',\n",
              " 'Cylinders',\n",
              " 'Displacement',\n",
              " 'Horsepower',\n",
              " 'Weight',\n",
              " 'Acceleration',\n",
              " 'Model',\n",
              " 'Origin']"
            ]
          },
          "metadata": {},
          "execution_count": 16
        }
      ]
    },
    {
      "cell_type": "code",
      "source": [
        "# Membuat daftar skema dalam format kolom_nama, tipe_data\n",
        "labels = [\n",
        "     ('Car',StringType()),\n",
        "     ('MPG',DoubleType()),\n",
        "     ('Cylinders',IntegerType()),\n",
        "     ('Displacement',DoubleType()),\n",
        "     ('Horsepower',DoubleType()),\n",
        "     ('Weight',DoubleType()),\n",
        "     ('Acceleration',DoubleType()),\n",
        "     ('Model',IntegerType()),\n",
        "     ('Origin',StringType())\n",
        "]"
      ],
      "metadata": {
        "id": "iwmn2mwW9TNS"
      },
      "execution_count": null,
      "outputs": []
    },
    {
      "cell_type": "code",
      "source": [
        "# Membuat skema yang akan dilewatkan saat membaca\n",
        "schema = StructType([StructField (x[0], x[1], True) for x in labels])\n",
        "schema"
      ],
      "metadata": {
        "colab": {
          "base_uri": "https://localhost:8080/"
        },
        "id": "rjDgctnM9eyw",
        "outputId": "3db54c1f-5f6e-4781-a602-4894bc6570cc"
      },
      "execution_count": null,
      "outputs": [
        {
          "output_type": "execute_result",
          "data": {
            "text/plain": [
              "StructType([StructField('Car', StringType(), True), StructField('MPG', DoubleType(), True), StructField('Cylinders', IntegerType(), True), StructField('Displacement', DoubleType(), True), StructField('Horsepower', DoubleType(), True), StructField('Weight', DoubleType(), True), StructField('Acceleration', DoubleType(), True), StructField('Model', IntegerType(), True), StructField('Origin', StringType(), True)])"
            ]
          },
          "metadata": {},
          "execution_count": 18
        }
      ]
    },
    {
      "cell_type": "code",
      "source": [
        "df = spark.read.csv('cars.csv', header=True, sep=\";\", schema=schema)\n",
        "df.printSchema()"
      ],
      "metadata": {
        "colab": {
          "base_uri": "https://localhost:8080/"
        },
        "id": "594Hwly29qip",
        "outputId": "d398c2db-86d3-4476-f225-bae02cb3cefd"
      },
      "execution_count": null,
      "outputs": [
        {
          "output_type": "stream",
          "name": "stdout",
          "text": [
            "root\n",
            " |-- Car: string (nullable = true)\n",
            " |-- MPG: double (nullable = true)\n",
            " |-- Cylinders: integer (nullable = true)\n",
            " |-- Displacement: double (nullable = true)\n",
            " |-- Horsepower: double (nullable = true)\n",
            " |-- Weight: double (nullable = true)\n",
            " |-- Acceleration: double (nullable = true)\n",
            " |-- Model: integer (nullable = true)\n",
            " |-- Origin: string (nullable = true)\n",
            "\n"
          ]
        }
      ]
    },
    {
      "cell_type": "code",
      "source": [
        "df.show(truncate=False)"
      ],
      "metadata": {
        "colab": {
          "base_uri": "https://localhost:8080/"
        },
        "id": "V--0jBfV9ucT",
        "outputId": "58e5aabb-9b38-4193-9c51-bcbb3e2753be"
      },
      "execution_count": null,
      "outputs": [
        {
          "output_type": "stream",
          "name": "stdout",
          "text": [
            "+--------------------------------+----+---------+------------+----------+------+------------+-----+------+\n",
            "|Car                             |MPG |Cylinders|Displacement|Horsepower|Weight|Acceleration|Model|Origin|\n",
            "+--------------------------------+----+---------+------------+----------+------+------------+-----+------+\n",
            "|Chevrolet Chevelle Malibu       |18.0|8        |307.0       |130.0     |3504.0|12.0        |70   |US    |\n",
            "|Buick Skylark 320               |15.0|8        |350.0       |165.0     |3693.0|11.5        |70   |US    |\n",
            "|Plymouth Satellite              |18.0|8        |318.0       |150.0     |3436.0|11.0        |70   |US    |\n",
            "|AMC Rebel SST                   |16.0|8        |304.0       |150.0     |3433.0|12.0        |70   |US    |\n",
            "|Ford Torino                     |17.0|8        |302.0       |140.0     |3449.0|10.5        |70   |US    |\n",
            "|Ford Galaxie 500                |15.0|8        |429.0       |198.0     |4341.0|10.0        |70   |US    |\n",
            "|Chevrolet Impala                |14.0|8        |454.0       |220.0     |4354.0|9.0         |70   |US    |\n",
            "|Plymouth Fury iii               |14.0|8        |440.0       |215.0     |4312.0|8.5         |70   |US    |\n",
            "|Pontiac Catalina                |14.0|8        |455.0       |225.0     |4425.0|10.0        |70   |US    |\n",
            "|AMC Ambassador DPL              |15.0|8        |390.0       |190.0     |3850.0|8.5         |70   |US    |\n",
            "|Citroen DS-21 Pallas            |0.0 |4        |133.0       |115.0     |3090.0|17.5        |70   |Europe|\n",
            "|Chevrolet Chevelle Concours (sw)|0.0 |8        |350.0       |165.0     |4142.0|11.5        |70   |US    |\n",
            "|Ford Torino (sw)                |0.0 |8        |351.0       |153.0     |4034.0|11.0        |70   |US    |\n",
            "|Plymouth Satellite (sw)         |0.0 |8        |383.0       |175.0     |4166.0|10.5        |70   |US    |\n",
            "|AMC Rebel SST (sw)              |0.0 |8        |360.0       |175.0     |3850.0|11.0        |70   |US    |\n",
            "|Dodge Challenger SE             |15.0|8        |383.0       |170.0     |3563.0|10.0        |70   |US    |\n",
            "|Plymouth 'Cuda 340              |14.0|8        |340.0       |160.0     |3609.0|8.0         |70   |US    |\n",
            "|Ford Mustang Boss 302           |0.0 |8        |302.0       |140.0     |3353.0|8.0         |70   |US    |\n",
            "|Chevrolet Monte Carlo           |15.0|8        |400.0       |150.0     |3761.0|9.5         |70   |US    |\n",
            "|Buick Estate Wagon (sw)         |14.0|8        |455.0       |225.0     |3086.0|10.0        |70   |US    |\n",
            "+--------------------------------+----+---------+------------+----------+------+------------+-----+------+\n",
            "only showing top 20 rows\n",
            "\n"
          ]
        }
      ]
    },
    {
      "cell_type": "code",
      "source": [
        "# Memilih Kolom cara 1\n",
        "print(df.Car)\n",
        "print(\"*\"*20)\n",
        "df.select(df.Car).show(truncate=False)"
      ],
      "metadata": {
        "colab": {
          "base_uri": "https://localhost:8080/"
        },
        "id": "mu8n8wlU91gq",
        "outputId": "4bfb3140-87f2-4d11-8054-3a196e18b5ae"
      },
      "execution_count": null,
      "outputs": [
        {
          "output_type": "stream",
          "name": "stdout",
          "text": [
            "Column<'Car'>\n",
            "********************\n",
            "+--------------------------------+\n",
            "|Car                             |\n",
            "+--------------------------------+\n",
            "|Chevrolet Chevelle Malibu       |\n",
            "|Buick Skylark 320               |\n",
            "|Plymouth Satellite              |\n",
            "|AMC Rebel SST                   |\n",
            "|Ford Torino                     |\n",
            "|Ford Galaxie 500                |\n",
            "|Chevrolet Impala                |\n",
            "|Plymouth Fury iii               |\n",
            "|Pontiac Catalina                |\n",
            "|AMC Ambassador DPL              |\n",
            "|Citroen DS-21 Pallas            |\n",
            "|Chevrolet Chevelle Concours (sw)|\n",
            "|Ford Torino (sw)                |\n",
            "|Plymouth Satellite (sw)         |\n",
            "|AMC Rebel SST (sw)              |\n",
            "|Dodge Challenger SE             |\n",
            "|Plymouth 'Cuda 340              |\n",
            "|Ford Mustang Boss 302           |\n",
            "|Chevrolet Monte Carlo           |\n",
            "|Buick Estate Wagon (sw)         |\n",
            "+--------------------------------+\n",
            "only showing top 20 rows\n",
            "\n"
          ]
        }
      ]
    },
    {
      "cell_type": "code",
      "source": [
        "# Memilih Kolom cara 2\n",
        "print(df['car'])\n",
        "print(\"*\"*20)\n",
        "df.select(df['car']).show(truncate=False)"
      ],
      "metadata": {
        "colab": {
          "base_uri": "https://localhost:8080/"
        },
        "id": "sxojliw3-DJj",
        "outputId": "eb76c7cf-37d2-491b-983b-4b038b8eb7ed"
      },
      "execution_count": null,
      "outputs": [
        {
          "output_type": "stream",
          "name": "stdout",
          "text": [
            "Column<'car'>\n",
            "********************\n",
            "+--------------------------------+\n",
            "|car                             |\n",
            "+--------------------------------+\n",
            "|Chevrolet Chevelle Malibu       |\n",
            "|Buick Skylark 320               |\n",
            "|Plymouth Satellite              |\n",
            "|AMC Rebel SST                   |\n",
            "|Ford Torino                     |\n",
            "|Ford Galaxie 500                |\n",
            "|Chevrolet Impala                |\n",
            "|Plymouth Fury iii               |\n",
            "|Pontiac Catalina                |\n",
            "|AMC Ambassador DPL              |\n",
            "|Citroen DS-21 Pallas            |\n",
            "|Chevrolet Chevelle Concours (sw)|\n",
            "|Ford Torino (sw)                |\n",
            "|Plymouth Satellite (sw)         |\n",
            "|AMC Rebel SST (sw)              |\n",
            "|Dodge Challenger SE             |\n",
            "|Plymouth 'Cuda 340              |\n",
            "|Ford Mustang Boss 302           |\n",
            "|Chevrolet Monte Carlo           |\n",
            "|Buick Estate Wagon (sw)         |\n",
            "+--------------------------------+\n",
            "only showing top 20 rows\n",
            "\n"
          ]
        }
      ]
    },
    {
      "cell_type": "code",
      "source": [
        "# Memilih Kolom cara 3\n",
        "from pyspark.sql.functions import col\n",
        "df.select(col('car')).show(truncate=False)"
      ],
      "metadata": {
        "colab": {
          "base_uri": "https://localhost:8080/"
        },
        "id": "EBGWwd-U-M8P",
        "outputId": "58c162e6-ca61-481e-e01a-89463df20bdb"
      },
      "execution_count": null,
      "outputs": [
        {
          "output_type": "stream",
          "name": "stdout",
          "text": [
            "+--------------------------------+\n",
            "|car                             |\n",
            "+--------------------------------+\n",
            "|Chevrolet Chevelle Malibu       |\n",
            "|Buick Skylark 320               |\n",
            "|Plymouth Satellite              |\n",
            "|AMC Rebel SST                   |\n",
            "|Ford Torino                     |\n",
            "|Ford Galaxie 500                |\n",
            "|Chevrolet Impala                |\n",
            "|Plymouth Fury iii               |\n",
            "|Pontiac Catalina                |\n",
            "|AMC Ambassador DPL              |\n",
            "|Citroen DS-21 Pallas            |\n",
            "|Chevrolet Chevelle Concours (sw)|\n",
            "|Ford Torino (sw)                |\n",
            "|Plymouth Satellite (sw)         |\n",
            "|AMC Rebel SST (sw)              |\n",
            "|Dodge Challenger SE             |\n",
            "|Plymouth 'Cuda 340              |\n",
            "|Ford Mustang Boss 302           |\n",
            "|Chevrolet Monte Carlo           |\n",
            "|Buick Estate Wagon (sw)         |\n",
            "+--------------------------------+\n",
            "only showing top 20 rows\n",
            "\n"
          ]
        }
      ]
    },
    {
      "cell_type": "code",
      "source": [
        "#Menambahkan kolom baru\n",
        "#menambahkan kolom baru bernama 'first_column' di akhir\n",
        "from pyspark.sql.functions import lit\n",
        "df = df.withColumn('first_column',lit(1))\n",
        "# lit berarti literal. Ia mengisi baris dengan nilai literal yang diberikan.\n",
        "# Saat menambahkan data statis/nilai konstan, sebaiknya gunakan ini.\n",
        "df.show(5,truncate=False)\n"
      ],
      "metadata": {
        "colab": {
          "base_uri": "https://localhost:8080/"
        },
        "id": "K0CNkzvF-6U_",
        "outputId": "ff998d76-a17c-40c1-ab8e-db91415a4903"
      },
      "execution_count": null,
      "outputs": [
        {
          "output_type": "stream",
          "name": "stdout",
          "text": [
            "+-------------------------+----+---------+------------+----------+------+------------+-----+------+------------+\n",
            "|Car                      |MPG |Cylinders|Displacement|Horsepower|Weight|Acceleration|Model|Origin|first_column|\n",
            "+-------------------------+----+---------+------------+----------+------+------------+-----+------+------------+\n",
            "|Chevrolet Chevelle Malibu|18.0|8        |307.0       |130.0     |3504.0|12.0        |70   |US    |1           |\n",
            "|Buick Skylark 320        |15.0|8        |350.0       |165.0     |3693.0|11.5        |70   |US    |1           |\n",
            "|Plymouth Satellite       |18.0|8        |318.0       |150.0     |3436.0|11.0        |70   |US    |1           |\n",
            "|AMC Rebel SST            |16.0|8        |304.0       |150.0     |3433.0|12.0        |70   |US    |1           |\n",
            "|Ford Torino              |17.0|8        |302.0       |140.0     |3449.0|10.5        |70   |US    |1           |\n",
            "+-------------------------+----+---------+------------+----------+------+------------+-----+------+------------+\n",
            "only showing top 5 rows\n",
            "\n"
          ]
        }
      ]
    },
    {
      "cell_type": "code",
      "source": [
        "#Menambahkan beberapa kolom\n",
        "#menambahkan dua kolom baru yang disebut 'second_column' dan 'third_column' di bagian akhir\n",
        "df = df.withColumn('second_column',lit(2)).withColumn('third_column',lit('third'))\n",
        "# lit berarti literal. Ini mengisi baris dengan nilai literal yang diberikan.\n",
        "# Saat menambahkan data statis/nilai konstan, sebaiknya gunakan ini.\n",
        "df.show(5,truncate=False)\n"
      ],
      "metadata": {
        "colab": {
          "base_uri": "https://localhost:8080/"
        },
        "id": "k0EiQA01_YCS",
        "outputId": "580fbbb4-9f96-4da6-99d4-a93caef59706"
      },
      "execution_count": null,
      "outputs": [
        {
          "output_type": "stream",
          "name": "stdout",
          "text": [
            "+-------------------------+----+---------+------------+----------+------+------------+-----+------+------------+-------------+------------+\n",
            "|Car                      |MPG |Cylinders|Displacement|Horsepower|Weight|Acceleration|Model|Origin|first_column|second_column|third_column|\n",
            "+-------------------------+----+---------+------------+----------+------+------------+-----+------+------------+-------------+------------+\n",
            "|Chevrolet Chevelle Malibu|18.0|8        |307.0       |130.0     |3504.0|12.0        |70   |US    |1           |2            |third       |\n",
            "|Buick Skylark 320        |15.0|8        |350.0       |165.0     |3693.0|11.5        |70   |US    |1           |2            |third       |\n",
            "|Plymouth Satellite       |18.0|8        |318.0       |150.0     |3436.0|11.0        |70   |US    |1           |2            |third       |\n",
            "|AMC Rebel SST            |16.0|8        |304.0       |150.0     |3433.0|12.0        |70   |US    |1           |2            |third       |\n",
            "|Ford Torino              |17.0|8        |302.0       |140.0     |3449.0|10.5        |70   |US    |1           |2            |third       |\n",
            "+-------------------------+----+---------+------------+----------+------+------------+-----+------+------------+-------------+------------+\n",
            "only showing top 5 rows\n",
            "\n"
          ]
        }
      ]
    },
    {
      "cell_type": "code",
      "source": [
        "#Mendapatkan kolom baru dari kolom yang sudah ada\n",
        "#menambahkan kolom baru bernama 'car_model' yang memiliki nilai car dan model yang ditambahkan bersama-sama dengan spasi di antaranya\n",
        "from pyspark.sql.functions import concat\n",
        "df = df.withColumn('car_model', concat(col(\"Car\"), lit(\" \"), col(\"model\")))\n",
        "df.show(5,truncate=False)"
      ],
      "metadata": {
        "colab": {
          "base_uri": "https://localhost:8080/"
        },
        "id": "gmpjS56q_v4C",
        "outputId": "2843809b-3f21-4d3b-91b6-430f6582ea4b"
      },
      "execution_count": null,
      "outputs": [
        {
          "output_type": "stream",
          "name": "stdout",
          "text": [
            "+-------------------------+----+---------+------------+----------+------+------------+-----+------+------------+-------------+------------+----------------------------+\n",
            "|Car                      |MPG |Cylinders|Displacement|Horsepower|Weight|Acceleration|Model|Origin|first_column|second_column|third_column|car_model                   |\n",
            "+-------------------------+----+---------+------------+----------+------+------------+-----+------+------------+-------------+------------+----------------------------+\n",
            "|Chevrolet Chevelle Malibu|18.0|8        |307.0       |130.0     |3504.0|12.0        |70   |US    |1           |2            |third       |Chevrolet Chevelle Malibu 70|\n",
            "|Buick Skylark 320        |15.0|8        |350.0       |165.0     |3693.0|11.5        |70   |US    |1           |2            |third       |Buick Skylark 320 70        |\n",
            "|Plymouth Satellite       |18.0|8        |318.0       |150.0     |3436.0|11.0        |70   |US    |1           |2            |third       |Plymouth Satellite 70       |\n",
            "|AMC Rebel SST            |16.0|8        |304.0       |150.0     |3433.0|12.0        |70   |US    |1           |2            |third       |AMC Rebel SST 70            |\n",
            "|Ford Torino              |17.0|8        |302.0       |140.0     |3449.0|10.5        |70   |US    |1           |2            |third       |Ford Torino 70              |\n",
            "+-------------------------+----+---------+------------+----------+------+------------+-----+------+------------+-------------+------------+----------------------------+\n",
            "only showing top 5 rows\n",
            "\n"
          ]
        }
      ]
    },
    {
      "cell_type": "code",
      "source": [
        "#Spark SQL\n",
        "# Muat data\n",
        "df = spark.read.csv('cars.csv', header=True, sep=\";\")\n",
        "# Daftarkan Tabel Sementara\n",
        "df.createOrReplaceTempView(\"temp\")\n",
        "# Pilih semua data dari tabel temp\n",
        "spark.sql(\"select * from temp limit 5\").show()\n"
      ],
      "metadata": {
        "colab": {
          "base_uri": "https://localhost:8080/"
        },
        "id": "a1BftxsxAonm",
        "outputId": "57127242-4e9a-4461-da14-6b929771d85e"
      },
      "execution_count": null,
      "outputs": [
        {
          "output_type": "stream",
          "name": "stdout",
          "text": [
            "+--------------------+----+---------+------------+----------+------+------------+-----+------+\n",
            "|                 Car| MPG|Cylinders|Displacement|Horsepower|Weight|Acceleration|Model|Origin|\n",
            "+--------------------+----+---------+------------+----------+------+------------+-----+------+\n",
            "|Chevrolet Chevell...|18.0|        8|       307.0|     130.0| 3504.|        12.0|   70|    US|\n",
            "|   Buick Skylark 320|15.0|        8|       350.0|     165.0| 3693.|        11.5|   70|    US|\n",
            "|  Plymouth Satellite|18.0|        8|       318.0|     150.0| 3436.|        11.0|   70|    US|\n",
            "|       AMC Rebel SST|16.0|        8|       304.0|     150.0| 3433.|        12.0|   70|    US|\n",
            "|         Ford Torino|17.0|        8|       302.0|     140.0| 3449.|        10.5|   70|    US|\n",
            "+--------------------+----+---------+------------+----------+------+------------+-----+------+\n",
            "\n"
          ]
        }
      ]
    },
    {
      "cell_type": "code",
      "source": [
        "#Hitung jumlah total baris dalam dataset.\n",
        "spark.sql(\"SELECT COUNT(*) AS total_rows FROM temp\").show()"
      ],
      "metadata": {
        "colab": {
          "base_uri": "https://localhost:8080/"
        },
        "id": "Q7cTXpIILCSU",
        "outputId": "e3d33280-ba86-446f-b019-f8e511510174"
      },
      "execution_count": null,
      "outputs": [
        {
          "output_type": "stream",
          "name": "stdout",
          "text": [
            "+----------+\n",
            "|total_rows|\n",
            "+----------+\n",
            "|       406|\n",
            "+----------+\n",
            "\n"
          ]
        }
      ]
    },
    {
      "cell_type": "code",
      "source": [
        "# Menampilkan mobil berdasarkan asalnya\n",
        "spark.sql(\"SELECT Car, Origin FROM temp\").show()"
      ],
      "metadata": {
        "colab": {
          "base_uri": "https://localhost:8080/"
        },
        "id": "IdWbl0wkKrh-",
        "outputId": "73ca85bf-5362-43d3-b624-258622801d48"
      },
      "execution_count": null,
      "outputs": [
        {
          "output_type": "stream",
          "name": "stdout",
          "text": [
            "+--------------------+------+\n",
            "|                 Car|Origin|\n",
            "+--------------------+------+\n",
            "|Chevrolet Chevell...|    US|\n",
            "|   Buick Skylark 320|    US|\n",
            "|  Plymouth Satellite|    US|\n",
            "|       AMC Rebel SST|    US|\n",
            "|         Ford Torino|    US|\n",
            "|    Ford Galaxie 500|    US|\n",
            "|    Chevrolet Impala|    US|\n",
            "|   Plymouth Fury iii|    US|\n",
            "|    Pontiac Catalina|    US|\n",
            "|  AMC Ambassador DPL|    US|\n",
            "|Citroen DS-21 Pallas|Europe|\n",
            "|Chevrolet Chevell...|    US|\n",
            "|    Ford Torino (sw)|    US|\n",
            "|Plymouth Satellit...|    US|\n",
            "|  AMC Rebel SST (sw)|    US|\n",
            "| Dodge Challenger SE|    US|\n",
            "|  Plymouth 'Cuda 340|    US|\n",
            "|Ford Mustang Boss...|    US|\n",
            "|Chevrolet Monte C...|    US|\n",
            "|Buick Estate Wago...|    US|\n",
            "+--------------------+------+\n",
            "only showing top 20 rows\n",
            "\n"
          ]
        }
      ]
    },
    {
      "cell_type": "code",
      "source": [
        "#Menampilkan mobil yang berasal dari Jepang (Origin = 'Japan')\n",
        "spark.sql(\"SELECT Car, Origin FROM temp WHERE Origin = 'Japan'\").show()\n"
      ],
      "metadata": {
        "colab": {
          "base_uri": "https://localhost:8080/"
        },
        "id": "RzMmzVyTNGZW",
        "outputId": "ba4f4cbe-c56f-4fc5-8f78-51f8349bf854"
      },
      "execution_count": null,
      "outputs": [
        {
          "output_type": "stream",
          "name": "stdout",
          "text": [
            "+--------------------+------+\n",
            "|                 Car|Origin|\n",
            "+--------------------+------+\n",
            "|Toyota Corolla Ma...| Japan|\n",
            "|        Datsun PL510| Japan|\n",
            "|        Datsun PL510| Japan|\n",
            "|      Toyota Corolla| Japan|\n",
            "| Toyota Corolla 1200| Japan|\n",
            "|         Datsun 1200| Japan|\n",
            "|Toyota Corolla Ha...| Japan|\n",
            "|     Mazda RX2 Coupe| Japan|\n",
            "|     Datsun 510 (sw)| Japan|\n",
            "|Toyota Corolla Ma...| Japan|\n",
            "|Toyota Corolla 16...| Japan|\n",
            "|        Toyota Camry| Japan|\n",
            "|          Datsun 610| Japan|\n",
            "|           Mazda RX3| Japan|\n",
            "|      Toyota Mark II| Japan|\n",
            "|         Datsun B210| Japan|\n",
            "| Toyota Corolla 1200| Japan|\n",
            "|      Toyota Corolla| Japan|\n",
            "|          Datsun 710| Japan|\n",
            "|         Honda Civic| Japan|\n",
            "+--------------------+------+\n",
            "only showing top 20 rows\n",
            "\n"
          ]
        }
      ]
    },
    {
      "cell_type": "code",
      "source": [
        "#mencari mobil yang berasal dari USA, Europe, atau Japan\n",
        "spark.sql(\"\"\"\n",
        "SELECT Car, Origin\n",
        "FROM temp\n",
        "WHERE Origin IN ('USA', 'Europe', 'Japan')\n",
        "\"\"\").show()\n"
      ],
      "metadata": {
        "colab": {
          "base_uri": "https://localhost:8080/"
        },
        "id": "J-09_T9XTIx4",
        "outputId": "5882ab9b-25b1-4d34-c659-71beba4a4ea0"
      },
      "execution_count": null,
      "outputs": [
        {
          "output_type": "stream",
          "name": "stdout",
          "text": [
            "+--------------------+------+\n",
            "|                 Car|Origin|\n",
            "+--------------------+------+\n",
            "|Citroen DS-21 Pallas|Europe|\n",
            "|Toyota Corolla Ma...| Japan|\n",
            "|        Datsun PL510| Japan|\n",
            "|Volkswagen 1131 D...|Europe|\n",
            "|         Peugeot 504|Europe|\n",
            "|         Audi 100 LS|Europe|\n",
            "|            Saab 99e|Europe|\n",
            "|            BMW 2002|Europe|\n",
            "|        Datsun PL510| Japan|\n",
            "|      Toyota Corolla| Japan|\n",
            "|Volkswagen Super ...|Europe|\n",
            "|           Opel 1900|Europe|\n",
            "|         Peugeot 304|Europe|\n",
            "|           Fiat 124B|Europe|\n",
            "| Toyota Corolla 1200| Japan|\n",
            "|         Datsun 1200| Japan|\n",
            "|Volkswagen Model 111|Europe|\n",
            "|Toyota Corolla Ha...| Japan|\n",
            "|   Volkswagen Type 3|Europe|\n",
            "|     Mazda RX2 Coupe| Japan|\n",
            "+--------------------+------+\n",
            "only showing top 20 rows\n",
            "\n"
          ]
        }
      ]
    },
    {
      "cell_type": "code",
      "source": [
        "#mencari mobil dengan Horsepower antara 100 dan 200\n",
        "spark.sql(\"\"\"\n",
        "SELECT Car, Horsepower\n",
        "FROM temp\n",
        "WHERE Horsepower BETWEEN 100 AND 200\n",
        "\"\"\").show()\n"
      ],
      "metadata": {
        "colab": {
          "base_uri": "https://localhost:8080/"
        },
        "id": "VtYPGM07TQ-C",
        "outputId": "1bfa1b31-9efd-41a4-d166-b9da3e518497"
      },
      "execution_count": null,
      "outputs": [
        {
          "output_type": "stream",
          "name": "stdout",
          "text": [
            "+--------------------+----------+\n",
            "|                 Car|Horsepower|\n",
            "+--------------------+----------+\n",
            "|Chevrolet Chevell...|     130.0|\n",
            "|   Buick Skylark 320|     165.0|\n",
            "|  Plymouth Satellite|     150.0|\n",
            "|       AMC Rebel SST|     150.0|\n",
            "|         Ford Torino|     140.0|\n",
            "|    Ford Galaxie 500|     198.0|\n",
            "|  AMC Ambassador DPL|     190.0|\n",
            "|Citroen DS-21 Pallas|     115.0|\n",
            "|Chevrolet Chevell...|     165.0|\n",
            "|    Ford Torino (sw)|     153.0|\n",
            "|Plymouth Satellit...|     175.0|\n",
            "|  AMC Rebel SST (sw)|     175.0|\n",
            "| Dodge Challenger SE|     170.0|\n",
            "|  Plymouth 'Cuda 340|     160.0|\n",
            "|Ford Mustang Boss...|     140.0|\n",
            "|Chevrolet Monte C...|     150.0|\n",
            "|            BMW 2002|     113.0|\n",
            "|           Chevy C20|     200.0|\n",
            "|            Hi 1200D|     193.0|\n",
            "|         AMC Gremlin|     100.0|\n",
            "+--------------------+----------+\n",
            "only showing top 20 rows\n",
            "\n"
          ]
        }
      ]
    },
    {
      "cell_type": "code",
      "source": [
        "#memberi peringkat mobil berdasarkan MPG atau Horsepower\n",
        "spark.sql(\"\"\"\n",
        "SELECT Car, MPG, RANK() OVER (ORDER BY MPG DESC) AS Rank\n",
        "FROM temp\n",
        "\"\"\").show()\n"
      ],
      "metadata": {
        "colab": {
          "base_uri": "https://localhost:8080/"
        },
        "id": "Go0JXw6jTbMF",
        "outputId": "90e541f2-bb55-4e04-f05e-6acfd536a653"
      },
      "execution_count": null,
      "outputs": [
        {
          "output_type": "stream",
          "name": "stdout",
          "text": [
            "+--------------------+----+----+\n",
            "|                 Car| MPG|Rank|\n",
            "+--------------------+----+----+\n",
            "|            Hi 1200D| 9.0|   1|\n",
            "|           Mazda GLC|46.6|   2|\n",
            "| Honda Civic 1500 gl|44.6|   3|\n",
            "|Volkswagen Rabbit...|44.3|   4|\n",
            "|   Volkswagen Pickup|44.0|   5|\n",
            "|Volkswagen Dasher...|43.4|   6|\n",
            "|Volkswagen Rabbit...|43.1|   7|\n",
            "|   Volkswagen Rabbit|41.5|   8|\n",
            "|Renault Lecar Deluxe|40.9|   9|\n",
            "|          Datsun 210|40.8|  10|\n",
            "|      Datsun B210 GX|39.4|  11|\n",
            "|      Toyota Starlet|39.1|  12|\n",
            "|      Plymouth Champ|39.0|  13|\n",
            "|Toyota Corolla Te...|38.1|  14|\n",
            "|Plymouth Horizon ...|38.0|  15|\n",
            "|         Honda Civic|38.0|  15|\n",
            "|       Datsun 310 GX|38.0|  15|\n",
            "|Oldsmobile Cutlas...|38.0|  15|\n",
            "|       Toyota Tercel|37.7|  19|\n",
            "|  Fiat Strada Custom|37.3|  20|\n",
            "+--------------------+----+----+\n",
            "only showing top 20 rows\n",
            "\n"
          ]
        }
      ]
    },
    {
      "cell_type": "code",
      "source": [
        "#Menemukan Mobil dengan Horsepower Tertinggi\n",
        "spark.sql(\"\"\"\n",
        "SELECT Car, Horsepower\n",
        "FROM temp\n",
        "ORDER BY Horsepower DESC\n",
        "LIMIT 1\n",
        "\"\"\").show()\n"
      ],
      "metadata": {
        "colab": {
          "base_uri": "https://localhost:8080/"
        },
        "id": "X-gS1nkGNwGT",
        "outputId": "ac8fb380-1a23-4211-fece-fd5bded492ab"
      },
      "execution_count": null,
      "outputs": [
        {
          "output_type": "stream",
          "name": "stdout",
          "text": [
            "+-----------+----------+\n",
            "|        Car|Horsepower|\n",
            "+-----------+----------+\n",
            "|Volvo 244DL|     98.00|\n",
            "+-----------+----------+\n",
            "\n"
          ]
        }
      ]
    },
    {
      "cell_type": "code",
      "source": [
        "#Menganalisis Distribusi Jumlah Silinder\n",
        "spark.sql(\"\"\"\n",
        "SELECT Cylinders, COUNT(*) AS Count\n",
        "FROM temp\n",
        "GROUP BY Cylinders\n",
        "ORDER BY Count DESC\n",
        "\"\"\").show()\n"
      ],
      "metadata": {
        "colab": {
          "base_uri": "https://localhost:8080/"
        },
        "id": "BEL5qTwcN7oF",
        "outputId": "1369a254-a985-4c3c-f5f4-7004f2544c0b"
      },
      "execution_count": null,
      "outputs": [
        {
          "output_type": "stream",
          "name": "stdout",
          "text": [
            "+---------+-----+\n",
            "|Cylinders|Count|\n",
            "+---------+-----+\n",
            "|        4|  207|\n",
            "|        8|  108|\n",
            "|        6|   84|\n",
            "|        3|    4|\n",
            "|        5|    3|\n",
            "+---------+-----+\n",
            "\n"
          ]
        }
      ]
    },
    {
      "cell_type": "code",
      "source": [
        "#Menampilkan Mobil dari Tahun Tertentu dengan MPG di Atas Rata-Rata\n",
        "spark.sql(\"\"\"\n",
        "SELECT Car, Model, MPG\n",
        "FROM temp\n",
        "WHERE Model = 76 AND MPG > (SELECT AVG(MPG) FROM temp)\n",
        "\"\"\").show()\n"
      ],
      "metadata": {
        "colab": {
          "base_uri": "https://localhost:8080/"
        },
        "id": "ofAPD-4XOC8g",
        "outputId": "057e1025-2de6-4d34-cd7b-cfb37bec211d"
      },
      "execution_count": null,
      "outputs": [
        {
          "output_type": "stream",
          "name": "stdout",
          "text": [
            "+------------------+-----+----+\n",
            "|               Car|Model| MPG|\n",
            "+------------------+-----+----+\n",
            "|          Fiat 131|   76|28.0|\n",
            "|         Opel 1900|   76|25.0|\n",
            "|          Capri ii|   76|25.0|\n",
            "|        Dodge Colt|   76|26.0|\n",
            "|      Renault 12tl|   76|27.0|\n",
            "|     Ford Maverick|   76|24.0|\n",
            "|Chevrolet Chevette|   76|29.0|\n",
            "|   Chevrolet Woody|   76|24.5|\n",
            "| Volkswagen Rabbit|   76|29.0|\n",
            "|       Honda Civic|   76|33.0|\n",
            "| Volkswagen Rabbit|   76|29.5|\n",
            "|      Datsun B-210|   76|32.0|\n",
            "|    Toyota Corolla|   76|28.0|\n",
            "|        Ford Pinto|   76|26.5|\n",
            "+------------------+-----+----+\n",
            "\n"
          ]
        }
      ]
    },
    {
      "cell_type": "code",
      "source": [
        "#Menampilkan Mobil dari Tahun Tertentu dengan MPG di Atas Rata-Rata\n",
        "spark.sql(\"\"\"\n",
        "SELECT Car, Model, MPG\n",
        "FROM temp\n",
        "WHERE Model = 76 AND MPG > (SELECT AVG(MPG) FROM temp)\n",
        "\"\"\").show()\n"
      ],
      "metadata": {
        "colab": {
          "base_uri": "https://localhost:8080/"
        },
        "id": "KQi11f9DOV4L",
        "outputId": "22229929-4e70-4f13-ec5e-6050ea4f23ee"
      },
      "execution_count": null,
      "outputs": [
        {
          "output_type": "stream",
          "name": "stdout",
          "text": [
            "+------------------+-----+----+\n",
            "|               Car|Model| MPG|\n",
            "+------------------+-----+----+\n",
            "|          Fiat 131|   76|28.0|\n",
            "|         Opel 1900|   76|25.0|\n",
            "|          Capri ii|   76|25.0|\n",
            "|        Dodge Colt|   76|26.0|\n",
            "|      Renault 12tl|   76|27.0|\n",
            "|     Ford Maverick|   76|24.0|\n",
            "|Chevrolet Chevette|   76|29.0|\n",
            "|   Chevrolet Woody|   76|24.5|\n",
            "| Volkswagen Rabbit|   76|29.0|\n",
            "|       Honda Civic|   76|33.0|\n",
            "| Volkswagen Rabbit|   76|29.5|\n",
            "|      Datsun B-210|   76|32.0|\n",
            "|    Toyota Corolla|   76|28.0|\n",
            "|        Ford Pinto|   76|26.5|\n",
            "+------------------+-----+----+\n",
            "\n"
          ]
        }
      ]
    },
    {
      "cell_type": "code",
      "source": [
        "#Menampilkan mobil yang diurutkan berdasarkan Horsepower dan Weight untuk melihat performa dan ukuran mobil\n",
        "spark.sql(\"\"\"\n",
        "SELECT Car, Horsepower, Weight\n",
        "FROM temp\n",
        "ORDER BY Horsepower DESC, Weight ASC\n",
        "\"\"\").show()\n"
      ],
      "metadata": {
        "colab": {
          "base_uri": "https://localhost:8080/"
        },
        "id": "R2CE5ab0O80j",
        "outputId": "d165b866-3d7a-4508-b694-e6f9dc31e167"
      },
      "execution_count": null,
      "outputs": [
        {
          "output_type": "stream",
          "name": "stdout",
          "text": [
            "+--------------------+----------+------+\n",
            "|                 Car|Horsepower|Weight|\n",
            "+--------------------+----------+------+\n",
            "|         Volvo 244DL|     98.00| 2945.|\n",
            "|        Ford Grenada|     98.00| 3525.|\n",
            "|          Datsun 510|     97.00| 2300.|\n",
            "|     Mazda RX2 Coupe|     97.00| 2330.|\n",
            "|       Datsun 200-SX|     97.00| 2405.|\n",
            "|         Honda Civic|     97.00| 2489.|\n",
            "|Toyota Corolla Ma...|     97.00| 2506.|\n",
            "|          Datsun 710|     97.00| 2545.|\n",
            "|          AMC Hornet|     97.00| 2774.|\n",
            "|          Datsun 810|     97.00| 2815.|\n",
            "|          Ford Pinto|     97.00| 2984.|\n",
            "|   Plymouth Arrow GS|     96.00| 2300.|\n",
            "|    Toyota Celica GT|     96.00| 2665.|\n",
            "|      Toyota Corolla|     96.00| 2702.|\n",
            "|      Toyota Corolla|     95.00| 2228.|\n",
            "|Toyota Corolla Ha...|     95.00| 2278.|\n",
            "|Toyota Corolla Ma...|     95.00| 2372.|\n",
            "|            Saab 99e|     95.00| 2375.|\n",
            "|Toyota Celica GT ...|     95.00| 2515.|\n",
            "|      Toyota Corolla|     95.00| 2560.|\n",
            "+--------------------+----------+------+\n",
            "only showing top 20 rows\n",
            "\n"
          ]
        }
      ]
    },
    {
      "cell_type": "code",
      "source": [
        "#Menampilkan semua mobil yang diproduksi pada tahun 1970 atau lebih tua\n",
        "spark.sql(\"\"\"\n",
        "SELECT Car, Model\n",
        "FROM temp\n",
        "WHERE Model <= 70\n",
        "\"\"\").show()\n"
      ],
      "metadata": {
        "colab": {
          "base_uri": "https://localhost:8080/"
        },
        "id": "Xyca5M8hPUIV",
        "outputId": "302d9962-5956-4551-a513-2e2030868092"
      },
      "execution_count": null,
      "outputs": [
        {
          "output_type": "stream",
          "name": "stdout",
          "text": [
            "+--------------------+-----+\n",
            "|                 Car|Model|\n",
            "+--------------------+-----+\n",
            "|Chevrolet Chevell...|   70|\n",
            "|   Buick Skylark 320|   70|\n",
            "|  Plymouth Satellite|   70|\n",
            "|       AMC Rebel SST|   70|\n",
            "|         Ford Torino|   70|\n",
            "|    Ford Galaxie 500|   70|\n",
            "|    Chevrolet Impala|   70|\n",
            "|   Plymouth Fury iii|   70|\n",
            "|    Pontiac Catalina|   70|\n",
            "|  AMC Ambassador DPL|   70|\n",
            "|Citroen DS-21 Pallas|   70|\n",
            "|Chevrolet Chevell...|   70|\n",
            "|    Ford Torino (sw)|   70|\n",
            "|Plymouth Satellit...|   70|\n",
            "|  AMC Rebel SST (sw)|   70|\n",
            "| Dodge Challenger SE|   70|\n",
            "|  Plymouth 'Cuda 340|   70|\n",
            "|Ford Mustang Boss...|   70|\n",
            "|Chevrolet Monte C...|   70|\n",
            "|Buick Estate Wago...|   70|\n",
            "+--------------------+-----+\n",
            "only showing top 20 rows\n",
            "\n"
          ]
        }
      ]
    },
    {
      "cell_type": "code",
      "source": [
        "#menghitung jumlah mobil dari setiap asal\n",
        "spark.sql(\"\"\"\n",
        "SELECT Origin, COUNT(*) AS Count\n",
        "FROM temp\n",
        "GROUP BY Origin\n",
        "\"\"\").show()\n"
      ],
      "metadata": {
        "colab": {
          "base_uri": "https://localhost:8080/"
        },
        "id": "vYxZrPSxPtyx",
        "outputId": "f1559d59-55d2-4acb-d23f-f96fd5441845"
      },
      "execution_count": null,
      "outputs": [
        {
          "output_type": "stream",
          "name": "stdout",
          "text": [
            "+------+-----+\n",
            "|Origin|Count|\n",
            "+------+-----+\n",
            "|Europe|   73|\n",
            "|    US|  254|\n",
            "| Japan|   79|\n",
            "+------+-----+\n",
            "\n"
          ]
        }
      ]
    },
    {
      "cell_type": "code",
      "source": [
        "#menghitung total berat semua mobil berdasarkan Origin\n",
        "spark.sql(\"\"\"\n",
        "SELECT Origin, SUM(Weight) AS Total_Weight\n",
        "FROM temp\n",
        "GROUP BY Origin\n",
        "\"\"\").show()\n"
      ],
      "metadata": {
        "colab": {
          "base_uri": "https://localhost:8080/"
        },
        "id": "O-UPlMlRP3tD",
        "outputId": "fbb66c3b-0628-4016-9c00-c9da223940ed"
      },
      "execution_count": null,
      "outputs": [
        {
          "output_type": "stream",
          "name": "stdout",
          "text": [
            "+------+------------+\n",
            "|Origin|Total_Weight|\n",
            "+------+------------+\n",
            "|Europe|    177499.0|\n",
            "|    US|    856666.0|\n",
            "| Japan|    175477.0|\n",
            "+------+------------+\n",
            "\n"
          ]
        }
      ]
    },
    {
      "cell_type": "code",
      "source": [
        "#menghitung rata-rata Horsepower berdasarkan Cylinders\n",
        "spark.sql(\"\"\"\n",
        "SELECT Cylinders, AVG(Horsepower) AS Avg_Horsepower\n",
        "FROM temp\n",
        "GROUP BY Cylinders\n",
        "\"\"\").show()\n"
      ],
      "metadata": {
        "colab": {
          "base_uri": "https://localhost:8080/"
        },
        "id": "eb_-wlVSP9SA",
        "outputId": "5234343a-cbe5-4c99-cc63-e5dbfd43beb9"
      },
      "execution_count": null,
      "outputs": [
        {
          "output_type": "stream",
          "name": "stdout",
          "text": [
            "+---------+------------------+\n",
            "|Cylinders|    Avg_Horsepower|\n",
            "+---------+------------------+\n",
            "|        3|             99.25|\n",
            "|        8| 158.4537037037037|\n",
            "|        5| 82.33333333333333|\n",
            "|        6|100.29761904761905|\n",
            "|        4| 76.57487922705315|\n",
            "+---------+------------------+\n",
            "\n"
          ]
        }
      ]
    },
    {
      "cell_type": "code",
      "source": [
        "#menampilkan mobil dengan Horsepower terendah dan tertinggi\n",
        "spark.sql(\"\"\"\n",
        "SELECT MIN(Horsepower) AS Min_Horsepower, MAX(Horsepower) AS Max_Horsepower\n",
        "FROM temp\n",
        "\"\"\").show()\n"
      ],
      "metadata": {
        "colab": {
          "base_uri": "https://localhost:8080/"
        },
        "id": "hdEuWy86QGsx",
        "outputId": "cfd8d7b0-cb1c-4e5b-b706-caa7d89e267c"
      },
      "execution_count": null,
      "outputs": [
        {
          "output_type": "stream",
          "name": "stdout",
          "text": [
            "+--------------+--------------+\n",
            "|Min_Horsepower|Max_Horsepower|\n",
            "+--------------+--------------+\n",
            "|             0|         98.00|\n",
            "+--------------+--------------+\n",
            "\n"
          ]
        }
      ]
    },
    {
      "cell_type": "code",
      "source": [
        "# mencari semua mobil yang namanya mengandung kata \"Chevrolet\"\n",
        "spark.sql(\"\"\"\n",
        "SELECT Car\n",
        "FROM temp\n",
        "WHERE Car LIKE '%Chevrolet%'\n",
        "\"\"\").show()\n"
      ],
      "metadata": {
        "colab": {
          "base_uri": "https://localhost:8080/"
        },
        "id": "rGYzu81vQif4",
        "outputId": "faf55733-aeb9-4a95-bf57-78b599f51cd1"
      },
      "execution_count": null,
      "outputs": [
        {
          "output_type": "stream",
          "name": "stdout",
          "text": [
            "+--------------------+\n",
            "|                 Car|\n",
            "+--------------------+\n",
            "|Chevrolet Chevell...|\n",
            "|    Chevrolet Impala|\n",
            "|Chevrolet Chevell...|\n",
            "|Chevrolet Monte C...|\n",
            "| Chevrolet Vega 2300|\n",
            "|Chevrolet Chevell...|\n",
            "|    Chevrolet Impala|\n",
            "| Chevrolet Vega (sw)|\n",
            "|      Chevrolet Vega|\n",
            "|    Chevrolet Impala|\n",
            "|Chevrolet Chevell...|\n",
            "|    Chevrolet Malibu|\n",
            "|Chevrolet Caprice...|\n",
            "|Chevrolet Nova Cu...|\n",
            "|    Chevrolet Impala|\n",
            "|      Chevrolet Vega|\n",
            "|Chevrolet Monte C...|\n",
            "|      Chevrolet Nova|\n",
            "|      Chevrolet Vega|\n",
            "|Chevrolet Chevell...|\n",
            "+--------------------+\n",
            "only showing top 20 rows\n",
            "\n"
          ]
        }
      ]
    },
    {
      "cell_type": "code",
      "source": [
        "#mengelompokkan mobil berdasarkan efisiensi bahan bakar MPG\n",
        "spark.sql(\"\"\"\n",
        "SELECT Car,\n",
        "       CASE\n",
        "           WHEN MPG > 20 THEN 'Efficient'\n",
        "           ELSE 'Inefficient'\n",
        "       END AS Fuel_Efficiency\n",
        "FROM temp\n",
        "\"\"\").show()\n"
      ],
      "metadata": {
        "colab": {
          "base_uri": "https://localhost:8080/"
        },
        "id": "wvszBC8IQw-L",
        "outputId": "eb20a86e-cd4f-4212-8087-b3fbff40c04e"
      },
      "execution_count": null,
      "outputs": [
        {
          "output_type": "stream",
          "name": "stdout",
          "text": [
            "+--------------------+---------------+\n",
            "|                 Car|Fuel_Efficiency|\n",
            "+--------------------+---------------+\n",
            "|Chevrolet Chevell...|    Inefficient|\n",
            "|   Buick Skylark 320|    Inefficient|\n",
            "|  Plymouth Satellite|    Inefficient|\n",
            "|       AMC Rebel SST|    Inefficient|\n",
            "|         Ford Torino|    Inefficient|\n",
            "|    Ford Galaxie 500|    Inefficient|\n",
            "|    Chevrolet Impala|    Inefficient|\n",
            "|   Plymouth Fury iii|    Inefficient|\n",
            "|    Pontiac Catalina|    Inefficient|\n",
            "|  AMC Ambassador DPL|    Inefficient|\n",
            "|Citroen DS-21 Pallas|    Inefficient|\n",
            "|Chevrolet Chevell...|    Inefficient|\n",
            "|    Ford Torino (sw)|    Inefficient|\n",
            "|Plymouth Satellit...|    Inefficient|\n",
            "|  AMC Rebel SST (sw)|    Inefficient|\n",
            "| Dodge Challenger SE|    Inefficient|\n",
            "|  Plymouth 'Cuda 340|    Inefficient|\n",
            "|Ford Mustang Boss...|    Inefficient|\n",
            "|Chevrolet Monte C...|    Inefficient|\n",
            "|Buick Estate Wago...|    Inefficient|\n",
            "+--------------------+---------------+\n",
            "only showing top 20 rows\n",
            "\n"
          ]
        }
      ]
    },
    {
      "cell_type": "code",
      "source": [
        "#mencari mobil yang tidak memiliki nilai Horsepower\n",
        "spark.sql(\"\"\"\n",
        "SELECT Car\n",
        "FROM temp\n",
        "WHERE Horsepower IS NULL\n",
        "\"\"\").show()\n",
        "\n"
      ],
      "metadata": {
        "colab": {
          "base_uri": "https://localhost:8080/"
        },
        "id": "Cx4ZB2sZRgtz",
        "outputId": "9d9e51e3-2e14-4502-b60a-7e64067f8e70"
      },
      "execution_count": null,
      "outputs": [
        {
          "output_type": "stream",
          "name": "stdout",
          "text": [
            "+---+\n",
            "|Car|\n",
            "+---+\n",
            "+---+\n",
            "\n"
          ]
        }
      ]
    },
    {
      "cell_type": "code",
      "source": [
        "# mengonversi MPG yang berbentuk string menjadi tipe float\n",
        "spark.sql(\"\"\"\n",
        "SELECT Car, CAST(MPG AS FLOAT) AS MPG_Float\n",
        "FROM temp\n",
        "\"\"\").show()\n"
      ],
      "metadata": {
        "colab": {
          "base_uri": "https://localhost:8080/"
        },
        "id": "KdVWI0VnRwxH",
        "outputId": "fd4364c0-5e69-4957-baa1-a9c22306b4c8"
      },
      "execution_count": null,
      "outputs": [
        {
          "output_type": "stream",
          "name": "stdout",
          "text": [
            "+--------------------+---------+\n",
            "|                 Car|MPG_Float|\n",
            "+--------------------+---------+\n",
            "|Chevrolet Chevell...|     18.0|\n",
            "|   Buick Skylark 320|     15.0|\n",
            "|  Plymouth Satellite|     18.0|\n",
            "|       AMC Rebel SST|     16.0|\n",
            "|         Ford Torino|     17.0|\n",
            "|    Ford Galaxie 500|     15.0|\n",
            "|    Chevrolet Impala|     14.0|\n",
            "|   Plymouth Fury iii|     14.0|\n",
            "|    Pontiac Catalina|     14.0|\n",
            "|  AMC Ambassador DPL|     15.0|\n",
            "|Citroen DS-21 Pallas|      0.0|\n",
            "|Chevrolet Chevell...|      0.0|\n",
            "|    Ford Torino (sw)|      0.0|\n",
            "|Plymouth Satellit...|      0.0|\n",
            "|  AMC Rebel SST (sw)|      0.0|\n",
            "| Dodge Challenger SE|     15.0|\n",
            "|  Plymouth 'Cuda 340|     14.0|\n",
            "|Ford Mustang Boss...|      0.0|\n",
            "|Chevrolet Monte C...|     15.0|\n",
            "|Buick Estate Wago...|     14.0|\n",
            "+--------------------+---------+\n",
            "only showing top 20 rows\n",
            "\n"
          ]
        }
      ]
    },
    {
      "cell_type": "code",
      "source": [
        "# Membaca data cars.csv untuk membuat temp2\n",
        "df2 = spark.read.csv('cars.csv', header=True, sep=\";\")\n",
        "\n",
        "# Daftarkan df2 sebagai tabel sementara baru\n",
        "df2.createOrReplaceTempView(\"temp2\")\n"
      ],
      "metadata": {
        "id": "xRlEgExpR93Z"
      },
      "execution_count": null,
      "outputs": []
    },
    {
      "cell_type": "code",
      "source": [
        "#menggabungkan dua dataset yang memiliki kolom Car dan Origin\n",
        "# dalam hal ini masih menggunakan 1 dataset\n",
        "spark.sql(\"\"\"\n",
        "SELECT Car, Origin FROM temp\n",
        "UNION\n",
        "SELECT Car, Origin FROM temp2\n",
        "\"\"\").show()\n"
      ],
      "metadata": {
        "colab": {
          "base_uri": "https://localhost:8080/"
        },
        "id": "GzU1knSYSXPv",
        "outputId": "dcb6b752-c23e-4f36-de2a-2d297eba1fa8"
      },
      "execution_count": null,
      "outputs": [
        {
          "output_type": "stream",
          "name": "stdout",
          "text": [
            "+--------------------+------+\n",
            "|                 Car|Origin|\n",
            "+--------------------+------+\n",
            "|           Saab 900s|Europe|\n",
            "|           Saab 99LE|Europe|\n",
            "|Pontiac J2000 SE ...|    US|\n",
            "|           AMC Pacer|    US|\n",
            "|     AMC Concord d/l|    US|\n",
            "| Chevrolet Vega (sw)|    US|\n",
            "|  Mercury Capri 2000|    US|\n",
            "|          Dodge Colt|    US|\n",
            "|Plymouth Volare C...|    US|\n",
            "|  Dodge Colt Hardtop|    US|\n",
            "|Datsun 510 Hatchback| Japan|\n",
            "|       Buick Century|    US|\n",
            "|Buick Century Spe...|    US|\n",
            "|Toyota Corolla Ma...| Japan|\n",
            "|    Plymouth Valiant|    US|\n",
            "|      Chevrolet Nova|    US|\n",
            "|      Ford Escort 2H|    US|\n",
            "|         Volvo 244DL|Europe|\n",
            "|            Fiat 131|Europe|\n",
            "|        Ford Country|    US|\n",
            "+--------------------+------+\n",
            "only showing top 20 rows\n",
            "\n"
          ]
        }
      ]
    },
    {
      "cell_type": "code",
      "source": [
        "#mengambil dua huruf pertama dari nama mobil untuk melihat jenis mobil yang paling banyak\n",
        "spark.sql(\"\"\"\n",
        "SELECT Car, SUBSTRING(Car, 1, 3) AS Car_Prefix\n",
        "FROM temp\n",
        "\"\"\").show()\n"
      ],
      "metadata": {
        "colab": {
          "base_uri": "https://localhost:8080/"
        },
        "id": "_rVhlVhfTkVC",
        "outputId": "3f831df7-3138-49e0-9709-3c2ff46a770e"
      },
      "execution_count": null,
      "outputs": [
        {
          "output_type": "stream",
          "name": "stdout",
          "text": [
            "+--------------------+----------+\n",
            "|                 Car|Car_Prefix|\n",
            "+--------------------+----------+\n",
            "|Chevrolet Chevell...|       Che|\n",
            "|   Buick Skylark 320|       Bui|\n",
            "|  Plymouth Satellite|       Ply|\n",
            "|       AMC Rebel SST|       AMC|\n",
            "|         Ford Torino|       For|\n",
            "|    Ford Galaxie 500|       For|\n",
            "|    Chevrolet Impala|       Che|\n",
            "|   Plymouth Fury iii|       Ply|\n",
            "|    Pontiac Catalina|       Pon|\n",
            "|  AMC Ambassador DPL|       AMC|\n",
            "|Citroen DS-21 Pallas|       Cit|\n",
            "|Chevrolet Chevell...|       Che|\n",
            "|    Ford Torino (sw)|       For|\n",
            "|Plymouth Satellit...|       Ply|\n",
            "|  AMC Rebel SST (sw)|       AMC|\n",
            "| Dodge Challenger SE|       Dod|\n",
            "|  Plymouth 'Cuda 340|       Ply|\n",
            "|Ford Mustang Boss...|       For|\n",
            "|Chevrolet Monte C...|       Che|\n",
            "|Buick Estate Wago...|       Bui|\n",
            "+--------------------+----------+\n",
            "only showing top 20 rows\n",
            "\n"
          ]
        }
      ]
    },
    {
      "cell_type": "code",
      "source": [
        "#menghitung panjang nama mobil\n",
        "spark.sql(\"\"\"\n",
        "SELECT Car, LENGTH(Car) AS Car_Name_Length\n",
        "FROM temp\n",
        "\"\"\").show()\n"
      ],
      "metadata": {
        "colab": {
          "base_uri": "https://localhost:8080/"
        },
        "id": "woULl6qYTsAg",
        "outputId": "301edb7b-0b78-48be-c6be-1fb9d843fd8a"
      },
      "execution_count": null,
      "outputs": [
        {
          "output_type": "stream",
          "name": "stdout",
          "text": [
            "+--------------------+---------------+\n",
            "|                 Car|Car_Name_Length|\n",
            "+--------------------+---------------+\n",
            "|Chevrolet Chevell...|             25|\n",
            "|   Buick Skylark 320|             17|\n",
            "|  Plymouth Satellite|             18|\n",
            "|       AMC Rebel SST|             13|\n",
            "|         Ford Torino|             11|\n",
            "|    Ford Galaxie 500|             16|\n",
            "|    Chevrolet Impala|             16|\n",
            "|   Plymouth Fury iii|             17|\n",
            "|    Pontiac Catalina|             16|\n",
            "|  AMC Ambassador DPL|             18|\n",
            "|Citroen DS-21 Pallas|             20|\n",
            "|Chevrolet Chevell...|             32|\n",
            "|    Ford Torino (sw)|             16|\n",
            "|Plymouth Satellit...|             23|\n",
            "|  AMC Rebel SST (sw)|             18|\n",
            "| Dodge Challenger SE|             19|\n",
            "|  Plymouth 'Cuda 340|             18|\n",
            "|Ford Mustang Boss...|             21|\n",
            "|Chevrolet Monte C...|             21|\n",
            "|Buick Estate Wago...|             23|\n",
            "+--------------------+---------------+\n",
            "only showing top 20 rows\n",
            "\n"
          ]
        }
      ]
    },
    {
      "cell_type": "code",
      "source": [
        "#membuat kolom baru yang berisi nilai Horsepower dan MPG dalam bentuk array\n",
        "spark.sql(\"\"\"\n",
        "SELECT Car, ARRAY(Horsepower, MPG) AS Car_Performance\n",
        "FROM temp\n",
        "\"\"\").show()\n",
        "\n"
      ],
      "metadata": {
        "colab": {
          "base_uri": "https://localhost:8080/"
        },
        "id": "PoUYeH2ZT2a_",
        "outputId": "0ef556ab-4f46-434c-a44b-fb7aabcaaf32"
      },
      "execution_count": null,
      "outputs": [
        {
          "output_type": "stream",
          "name": "stdout",
          "text": [
            "+--------------------+---------------+\n",
            "|                 Car|Car_Performance|\n",
            "+--------------------+---------------+\n",
            "|Chevrolet Chevell...|  [130.0, 18.0]|\n",
            "|   Buick Skylark 320|  [165.0, 15.0]|\n",
            "|  Plymouth Satellite|  [150.0, 18.0]|\n",
            "|       AMC Rebel SST|  [150.0, 16.0]|\n",
            "|         Ford Torino|  [140.0, 17.0]|\n",
            "|    Ford Galaxie 500|  [198.0, 15.0]|\n",
            "|    Chevrolet Impala|  [220.0, 14.0]|\n",
            "|   Plymouth Fury iii|  [215.0, 14.0]|\n",
            "|    Pontiac Catalina|  [225.0, 14.0]|\n",
            "|  AMC Ambassador DPL|  [190.0, 15.0]|\n",
            "|Citroen DS-21 Pallas|     [115.0, 0]|\n",
            "|Chevrolet Chevell...|     [165.0, 0]|\n",
            "|    Ford Torino (sw)|     [153.0, 0]|\n",
            "|Plymouth Satellit...|     [175.0, 0]|\n",
            "|  AMC Rebel SST (sw)|     [175.0, 0]|\n",
            "| Dodge Challenger SE|  [170.0, 15.0]|\n",
            "|  Plymouth 'Cuda 340|  [160.0, 14.0]|\n",
            "|Ford Mustang Boss...|     [140.0, 0]|\n",
            "|Chevrolet Monte C...|  [150.0, 15.0]|\n",
            "|Buick Estate Wago...|  [225.0, 14.0]|\n",
            "+--------------------+---------------+\n",
            "only showing top 20 rows\n",
            "\n"
          ]
        }
      ]
    },
    {
      "cell_type": "code",
      "source": [
        "#menggabungkan Car dan Origin menjadi satu kolom Car_Origin\n",
        "spark.sql(\"\"\"\n",
        "SELECT CONCAT(Car, ' - ', Origin) AS Car_Origin\n",
        "FROM temp\n",
        "\"\"\").show()\n"
      ],
      "metadata": {
        "colab": {
          "base_uri": "https://localhost:8080/"
        },
        "id": "op4VN1fUUMbl",
        "outputId": "1513dcb0-5d94-4e82-b59c-ad9daa9ccaaa"
      },
      "execution_count": null,
      "outputs": [
        {
          "output_type": "stream",
          "name": "stdout",
          "text": [
            "+--------------------+\n",
            "|          Car_Origin|\n",
            "+--------------------+\n",
            "|Chevrolet Chevell...|\n",
            "|Buick Skylark 320...|\n",
            "|Plymouth Satellit...|\n",
            "|  AMC Rebel SST - US|\n",
            "|    Ford Torino - US|\n",
            "|Ford Galaxie 500 ...|\n",
            "|Chevrolet Impala ...|\n",
            "|Plymouth Fury iii...|\n",
            "|Pontiac Catalina ...|\n",
            "|AMC Ambassador DP...|\n",
            "|Citroen DS-21 Pal...|\n",
            "|Chevrolet Chevell...|\n",
            "|Ford Torino (sw) ...|\n",
            "|Plymouth Satellit...|\n",
            "|AMC Rebel SST (sw...|\n",
            "|Dodge Challenger ...|\n",
            "|Plymouth 'Cuda 34...|\n",
            "|Ford Mustang Boss...|\n",
            "|Chevrolet Monte C...|\n",
            "|Buick Estate Wago...|\n",
            "+--------------------+\n",
            "only showing top 20 rows\n",
            "\n"
          ]
        }
      ]
    }
  ]
}